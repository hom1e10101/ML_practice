{
 "cells": [
  {
   "cell_type": "code",
   "execution_count": 102,
   "id": "4bb5d1d7-a764-47fc-b41d-57a7584abf3f",
   "metadata": {},
   "outputs": [
    {
     "name": "stdout",
     "output_type": "stream",
     "text": [
      "Defaulting to user installation because normal site-packages is not writeable\n",
      "Collecting easyocr\n",
      "  Downloading easyocr-1.7.2-py3-none-any.whl (2.9 MB)\n",
      "\u001b[2K     \u001b[38;2;114;156;31m━━━━━━━━━━━━━━━━━━━━━━━━━━━━━━━━━━━━━━━━\u001b[0m \u001b[32m2.9/2.9 MB\u001b[0m \u001b[31m3.1 MB/s\u001b[0m eta \u001b[36m0:00:00\u001b[0mm eta \u001b[36m0:00:01\u001b[0m[36m0:00:01\u001b[0m\n",
      "\u001b[?25hRequirement already satisfied: PyYAML in /usr/lib/python3/dist-packages (from easyocr) (5.4.1)\n",
      "Requirement already satisfied: Pillow in /usr/lib/python3/dist-packages (from easyocr) (9.0.1)\n",
      "Collecting scikit-image\n",
      "  Downloading scikit_image-0.25.2-cp310-cp310-manylinux_2_17_x86_64.manylinux2014_x86_64.whl (14.8 MB)\n",
      "\u001b[2K     \u001b[38;2;114;156;31m━━━━━━━━━━━━━━━━━━━━━━━━━━━━━━━━━━━━━━━━\u001b[0m \u001b[32m14.8/14.8 MB\u001b[0m \u001b[31m3.2 MB/s\u001b[0m eta \u001b[36m0:00:00\u001b[0mm eta \u001b[36m0:00:01\u001b[0m[36m0:00:01\u001b[0m\n",
      "\u001b[?25hCollecting scipy\n",
      "  Downloading scipy-1.15.3-cp310-cp310-manylinux_2_17_x86_64.manylinux2014_x86_64.whl (37.7 MB)\n",
      "\u001b[2K     \u001b[38;2;114;156;31m━━━━━━━━━━━━━━━━━━━━━━━━━━━━━━━━━━━━━━━━\u001b[0m \u001b[32m37.7/37.7 MB\u001b[0m \u001b[31m3.2 MB/s\u001b[0m eta \u001b[36m0:00:00\u001b[0mm eta \u001b[36m0:00:01\u001b[0m[36m0:00:01\u001b[0m\n",
      "\u001b[?25hCollecting Shapely\n",
      "  Downloading shapely-2.1.1-cp310-cp310-manylinux_2_17_x86_64.manylinux2014_x86_64.whl (3.1 MB)\n",
      "\u001b[2K     \u001b[38;2;114;156;31m━━━━━━━━━━━━━━━━━━━━━━━━━━━━━━━━━━━━━━━━\u001b[0m \u001b[32m3.1/3.1 MB\u001b[0m \u001b[31m2.4 MB/s\u001b[0m eta \u001b[36m0:00:00\u001b[0mm eta \u001b[36m0:00:01\u001b[0m[36m0:00:01\u001b[0m\n",
      "\u001b[?25hRequirement already satisfied: torch in /home/hom1e/.local/lib/python3.10/site-packages (from easyocr) (2.7.1)\n",
      "Collecting opencv-python-headless\n",
      "  Downloading opencv_python_headless-4.11.0.86-cp37-abi3-manylinux_2_17_x86_64.manylinux2014_x86_64.whl (50.0 MB)\n",
      "\u001b[2K     \u001b[38;2;114;156;31m━━━━━━━━━━━━━━━━━━━━━━━━━━━━━━━━━━━━━━━━\u001b[0m \u001b[32m50.0/50.0 MB\u001b[0m \u001b[31m2.6 MB/s\u001b[0m eta \u001b[36m0:00:00\u001b[0mm eta \u001b[36m0:00:01\u001b[0m[36m0:00:01\u001b[0m\n",
      "\u001b[?25hCollecting pyclipper\n",
      "  Downloading pyclipper-1.3.0.post6-cp310-cp310-manylinux_2_12_x86_64.manylinux2010_x86_64.whl (912 kB)\n",
      "\u001b[2K     \u001b[38;2;114;156;31m━━━━━━━━━━━━━━━━━━━━━━━━━━━━━━━━━━━━━━━\u001b[0m \u001b[32m912.2/912.2 KB\u001b[0m \u001b[31m3.3 MB/s\u001b[0m eta \u001b[36m0:00:00\u001b[0m[31m3.4 MB/s\u001b[0m eta \u001b[36m0:00:01\u001b[0m\n",
      "\u001b[?25hRequirement already satisfied: torchvision>=0.5 in /home/hom1e/.local/lib/python3.10/site-packages (from easyocr) (0.22.1)\n",
      "Requirement already satisfied: numpy in /home/hom1e/.local/lib/python3.10/site-packages (from easyocr) (2.2.0)\n",
      "Collecting python-bidi\n",
      "  Downloading python_bidi-0.6.6-cp310-cp310-manylinux_2_17_x86_64.manylinux2014_x86_64.whl (293 kB)\n",
      "\u001b[2K     \u001b[38;2;114;156;31m━━━━━━━━━━━━━━━━━━━━━━━━━━━━━━━━━━━━━━━\u001b[0m \u001b[32m293.1/293.1 KB\u001b[0m \u001b[31m3.6 MB/s\u001b[0m eta \u001b[36m0:00:00\u001b[0m[31m3.7 MB/s\u001b[0m eta \u001b[36m0:00:01\u001b[0m\n",
      "\u001b[?25hCollecting ninja\n",
      "  Downloading ninja-1.11.1.4-py3-none-manylinux_2_12_x86_64.manylinux2010_x86_64.whl (422 kB)\n",
      "\u001b[2K     \u001b[38;2;114;156;31m━━━━━━━━━━━━━━━━━━━━━━━━━━━━━━━━━━━━━━━\u001b[0m \u001b[32m422.8/422.8 KB\u001b[0m \u001b[31m3.2 MB/s\u001b[0m eta \u001b[36m0:00:00\u001b[0m MB/s\u001b[0m eta \u001b[36m0:00:01\u001b[0m:01\u001b[0m\n",
      "\u001b[?25hRequirement already satisfied: typing-extensions>=4.10.0 in /home/hom1e/.local/lib/python3.10/site-packages (from torch->easyocr) (4.14.0)\n",
      "Requirement already satisfied: nvidia-nvjitlink-cu12==12.6.85 in /home/hom1e/.local/lib/python3.10/site-packages (from torch->easyocr) (12.6.85)\n",
      "Requirement already satisfied: nvidia-curand-cu12==10.3.7.77 in /home/hom1e/.local/lib/python3.10/site-packages (from torch->easyocr) (10.3.7.77)\n",
      "Requirement already satisfied: sympy>=1.13.3 in /home/hom1e/.local/lib/python3.10/site-packages (from torch->easyocr) (1.14.0)\n",
      "Requirement already satisfied: jinja2 in /home/hom1e/.local/lib/python3.10/site-packages (from torch->easyocr) (3.1.6)\n",
      "Requirement already satisfied: nvidia-nccl-cu12==2.26.2 in /home/hom1e/.local/lib/python3.10/site-packages (from torch->easyocr) (2.26.2)\n",
      "Requirement already satisfied: nvidia-cublas-cu12==12.6.4.1 in /home/hom1e/.local/lib/python3.10/site-packages (from torch->easyocr) (12.6.4.1)\n",
      "Requirement already satisfied: nvidia-cufft-cu12==11.3.0.4 in /home/hom1e/.local/lib/python3.10/site-packages (from torch->easyocr) (11.3.0.4)\n",
      "Requirement already satisfied: nvidia-cuda-runtime-cu12==12.6.77 in /home/hom1e/.local/lib/python3.10/site-packages (from torch->easyocr) (12.6.77)\n",
      "Requirement already satisfied: nvidia-nvtx-cu12==12.6.77 in /home/hom1e/.local/lib/python3.10/site-packages (from torch->easyocr) (12.6.77)\n",
      "Requirement already satisfied: nvidia-cusparse-cu12==12.5.4.2 in /home/hom1e/.local/lib/python3.10/site-packages (from torch->easyocr) (12.5.4.2)\n",
      "Requirement already satisfied: nvidia-cufile-cu12==1.11.1.6 in /home/hom1e/.local/lib/python3.10/site-packages (from torch->easyocr) (1.11.1.6)\n",
      "Requirement already satisfied: networkx in /home/hom1e/.local/lib/python3.10/site-packages (from torch->easyocr) (3.4.2)\n",
      "Requirement already satisfied: nvidia-cusparselt-cu12==0.6.3 in /home/hom1e/.local/lib/python3.10/site-packages (from torch->easyocr) (0.6.3)\n",
      "Requirement already satisfied: nvidia-cuda-nvrtc-cu12==12.6.77 in /home/hom1e/.local/lib/python3.10/site-packages (from torch->easyocr) (12.6.77)\n",
      "Requirement already satisfied: nvidia-cudnn-cu12==9.5.1.17 in /home/hom1e/.local/lib/python3.10/site-packages (from torch->easyocr) (9.5.1.17)\n",
      "Requirement already satisfied: triton==3.3.1 in /home/hom1e/.local/lib/python3.10/site-packages (from torch->easyocr) (3.3.1)\n",
      "Requirement already satisfied: nvidia-cuda-cupti-cu12==12.6.80 in /home/hom1e/.local/lib/python3.10/site-packages (from torch->easyocr) (12.6.80)\n",
      "Requirement already satisfied: fsspec in /home/hom1e/.local/lib/python3.10/site-packages (from torch->easyocr) (2025.5.1)\n",
      "Requirement already satisfied: filelock in /home/hom1e/.local/lib/python3.10/site-packages (from torch->easyocr) (3.18.0)\n",
      "Requirement already satisfied: nvidia-cusolver-cu12==11.7.1.2 in /home/hom1e/.local/lib/python3.10/site-packages (from torch->easyocr) (11.7.1.2)\n",
      "Requirement already satisfied: setuptools>=40.8.0 in /usr/lib/python3/dist-packages (from triton==3.3.1->torch->easyocr) (59.6.0)\n",
      "Collecting Pillow\n",
      "  Downloading pillow-11.3.0-cp310-cp310-manylinux_2_27_x86_64.manylinux_2_28_x86_64.whl (6.6 MB)\n",
      "\u001b[2K     \u001b[38;2;114;156;31m━━━━━━━━━━━━━━━━━━━━━━━━━━━━━━━━━━━━━━━━\u001b[0m \u001b[32m6.6/6.6 MB\u001b[0m \u001b[31m3.4 MB/s\u001b[0m eta \u001b[36m0:00:00\u001b[0m[36m0:00:01\u001b[0mm eta \u001b[36m0:00:01\u001b[0m\n",
      "\u001b[?25hCollecting lazy-loader>=0.4\n",
      "  Downloading lazy_loader-0.4-py3-none-any.whl (12 kB)\n",
      "Collecting imageio!=2.35.0,>=2.33\n",
      "  Downloading imageio-2.37.0-py3-none-any.whl (315 kB)\n",
      "\u001b[2K     \u001b[38;2;114;156;31m━━━━━━━━━━━━━━━━━━━━━━━━━━━━━━━━━━━━━━━\u001b[0m \u001b[32m315.8/315.8 KB\u001b[0m \u001b[31m3.1 MB/s\u001b[0m eta \u001b[36m0:00:00\u001b[0m[31m3.2 MB/s\u001b[0m eta \u001b[36m0:00:01\u001b[0m\n",
      "\u001b[?25hCollecting tifffile>=2022.8.12\n",
      "  Downloading tifffile-2025.5.10-py3-none-any.whl (226 kB)\n",
      "\u001b[2K     \u001b[38;2;114;156;31m━━━━━━━━━━━━━━━━━━━━━━━━━━━━━━━━━━━━━━━\u001b[0m \u001b[32m226.5/226.5 KB\u001b[0m \u001b[31m3.1 MB/s\u001b[0m eta \u001b[36m0:00:00\u001b[0m MB/s\u001b[0m eta \u001b[36m0:00:01\u001b[0m\n",
      "\u001b[?25hRequirement already satisfied: packaging>=21 in /home/hom1e/.local/lib/python3.10/site-packages (from scikit-image->easyocr) (24.2)\n",
      "Requirement already satisfied: mpmath<1.4,>=1.1.0 in /home/hom1e/.local/lib/python3.10/site-packages (from sympy>=1.13.3->torch->easyocr) (1.3.0)\n",
      "Requirement already satisfied: MarkupSafe>=2.0 in /usr/lib/python3/dist-packages (from jinja2->torch->easyocr) (2.0.1)\n",
      "Installing collected packages: python-bidi, pyclipper, tifffile, Shapely, scipy, Pillow, opencv-python-headless, ninja, lazy-loader, imageio, scikit-image, easyocr\n",
      "Successfully installed Pillow-11.3.0 Shapely-2.1.1 easyocr-1.7.2 imageio-2.37.0 lazy-loader-0.4 ninja-1.11.1.4 opencv-python-headless-4.11.0.86 pyclipper-1.3.0.post6 python-bidi-0.6.6 scikit-image-0.25.2 scipy-1.15.3 tifffile-2025.5.10\n"
     ]
    }
   ],
   "source": [
    "!pip install easyocr"
   ]
  },
  {
   "cell_type": "code",
   "execution_count": 29,
   "id": "4b0e243d",
   "metadata": {},
   "outputs": [
    {
     "name": "stdout",
     "output_type": "stream",
     "text": [
      "Defaulting to user installation because normal site-packages is not writeable\n",
      "Requirement already satisfied: torch in /home/hom1e/.local/lib/python3.10/site-packages (2.7.1)\n",
      "Requirement already satisfied: torchvision in /home/hom1e/.local/lib/python3.10/site-packages (0.22.1)\n",
      "Requirement already satisfied: torchaudio in /home/hom1e/.local/lib/python3.10/site-packages (2.7.1)\n",
      "Requirement already satisfied: filelock in /home/hom1e/.local/lib/python3.10/site-packages (from torch) (3.18.0)\n",
      "Requirement already satisfied: nvidia-cufft-cu12==11.3.0.4 in /home/hom1e/.local/lib/python3.10/site-packages (from torch) (11.3.0.4)\n",
      "Requirement already satisfied: fsspec in /home/hom1e/.local/lib/python3.10/site-packages (from torch) (2025.5.1)\n",
      "Requirement already satisfied: nvidia-nccl-cu12==2.26.2 in /home/hom1e/.local/lib/python3.10/site-packages (from torch) (2.26.2)\n",
      "Requirement already satisfied: nvidia-cublas-cu12==12.6.4.1 in /home/hom1e/.local/lib/python3.10/site-packages (from torch) (12.6.4.1)\n",
      "Requirement already satisfied: nvidia-cusolver-cu12==11.7.1.2 in /home/hom1e/.local/lib/python3.10/site-packages (from torch) (11.7.1.2)\n",
      "Requirement already satisfied: triton==3.3.1 in /home/hom1e/.local/lib/python3.10/site-packages (from torch) (3.3.1)\n",
      "Requirement already satisfied: sympy>=1.13.3 in /home/hom1e/.local/lib/python3.10/site-packages (from torch) (1.14.0)\n",
      "Requirement already satisfied: nvidia-cudnn-cu12==9.5.1.17 in /home/hom1e/.local/lib/python3.10/site-packages (from torch) (9.5.1.17)\n",
      "Requirement already satisfied: nvidia-curand-cu12==10.3.7.77 in /home/hom1e/.local/lib/python3.10/site-packages (from torch) (10.3.7.77)\n",
      "Requirement already satisfied: jinja2 in /home/hom1e/.local/lib/python3.10/site-packages (from torch) (3.1.6)\n",
      "Requirement already satisfied: nvidia-cuda-cupti-cu12==12.6.80 in /home/hom1e/.local/lib/python3.10/site-packages (from torch) (12.6.80)\n",
      "Requirement already satisfied: nvidia-cusparse-cu12==12.5.4.2 in /home/hom1e/.local/lib/python3.10/site-packages (from torch) (12.5.4.2)\n",
      "Requirement already satisfied: nvidia-cufile-cu12==1.11.1.6 in /home/hom1e/.local/lib/python3.10/site-packages (from torch) (1.11.1.6)\n",
      "Requirement already satisfied: nvidia-nvtx-cu12==12.6.77 in /home/hom1e/.local/lib/python3.10/site-packages (from torch) (12.6.77)\n",
      "Requirement already satisfied: nvidia-cusparselt-cu12==0.6.3 in /home/hom1e/.local/lib/python3.10/site-packages (from torch) (0.6.3)\n",
      "Requirement already satisfied: typing-extensions>=4.10.0 in /home/hom1e/.local/lib/python3.10/site-packages (from torch) (4.14.0)\n",
      "Requirement already satisfied: nvidia-cuda-nvrtc-cu12==12.6.77 in /home/hom1e/.local/lib/python3.10/site-packages (from torch) (12.6.77)\n",
      "Requirement already satisfied: nvidia-nvjitlink-cu12==12.6.85 in /home/hom1e/.local/lib/python3.10/site-packages (from torch) (12.6.85)\n",
      "Requirement already satisfied: networkx in /home/hom1e/.local/lib/python3.10/site-packages (from torch) (3.4.2)\n",
      "Requirement already satisfied: nvidia-cuda-runtime-cu12==12.6.77 in /home/hom1e/.local/lib/python3.10/site-packages (from torch) (12.6.77)\n",
      "Requirement already satisfied: setuptools>=40.8.0 in /usr/lib/python3/dist-packages (from triton==3.3.1->torch) (59.6.0)\n",
      "Requirement already satisfied: pillow!=8.3.*,>=5.3.0 in /usr/lib/python3/dist-packages (from torchvision) (9.0.1)\n",
      "Requirement already satisfied: numpy in /home/hom1e/.local/lib/python3.10/site-packages (from torchvision) (2.2.0)\n",
      "Requirement already satisfied: mpmath<1.4,>=1.1.0 in /home/hom1e/.local/lib/python3.10/site-packages (from sympy>=1.13.3->torch) (1.3.0)\n",
      "Requirement already satisfied: MarkupSafe>=2.0 in /usr/lib/python3/dist-packages (from jinja2->torch) (2.0.1)\n"
     ]
    }
   ],
   "source": [
    "!pip install torch torchvision torchaudio"
   ]
  },
  {
   "cell_type": "code",
   "execution_count": 140,
   "id": "ffcd91c1-3701-47eb-b154-95d6e7bef0e0",
   "metadata": {},
   "outputs": [
    {
     "name": "stdout",
     "output_type": "stream",
     "text": [
      "Defaulting to user installation because normal site-packages is not writeable\n",
      "Requirement already satisfied: pillow in /home/hom1e/.local/lib/python3.10/site-packages (11.3.0)\n",
      "Requirement already satisfied: easyocr in /home/hom1e/.local/lib/python3.10/site-packages (1.7.2)\n",
      "Collecting opencv-python\n",
      "  Downloading opencv_python-4.11.0.86-cp37-abi3-manylinux_2_17_x86_64.manylinux2014_x86_64.whl (63.0 MB)\n",
      "\u001b[2K     \u001b[38;2;114;156;31m━━━━━━━━━━━━━━━━━━━━━━━━━━━━━━━━━━━━━━━━\u001b[0m \u001b[32m63.0/63.0 MB\u001b[0m \u001b[31m1.5 MB/s\u001b[0m eta \u001b[36m0:00:00\u001b[0mm eta \u001b[36m0:00:01\u001b[0m[36m0:00:02\u001b[0m\n",
      "\u001b[?25hRequirement already satisfied: PyYAML in /usr/lib/python3/dist-packages (from easyocr) (5.4.1)\n",
      "Requirement already satisfied: torch in /home/hom1e/.local/lib/python3.10/site-packages (from easyocr) (2.7.1)\n",
      "Requirement already satisfied: numpy in /home/hom1e/.local/lib/python3.10/site-packages (from easyocr) (2.2.0)\n",
      "Requirement already satisfied: torchvision>=0.5 in /home/hom1e/.local/lib/python3.10/site-packages (from easyocr) (0.22.1)\n",
      "Requirement already satisfied: Shapely in /home/hom1e/.local/lib/python3.10/site-packages (from easyocr) (2.1.1)\n",
      "Requirement already satisfied: pyclipper in /home/hom1e/.local/lib/python3.10/site-packages (from easyocr) (1.3.0.post6)\n",
      "Requirement already satisfied: scipy in /home/hom1e/.local/lib/python3.10/site-packages (from easyocr) (1.15.3)\n",
      "Requirement already satisfied: ninja in /home/hom1e/.local/lib/python3.10/site-packages (from easyocr) (1.11.1.4)\n",
      "Requirement already satisfied: python-bidi in /home/hom1e/.local/lib/python3.10/site-packages (from easyocr) (0.6.6)\n",
      "Requirement already satisfied: opencv-python-headless in /home/hom1e/.local/lib/python3.10/site-packages (from easyocr) (4.11.0.86)\n",
      "Requirement already satisfied: scikit-image in /home/hom1e/.local/lib/python3.10/site-packages (from easyocr) (0.25.2)\n",
      "Requirement already satisfied: sympy>=1.13.3 in /home/hom1e/.local/lib/python3.10/site-packages (from torch->easyocr) (1.14.0)\n",
      "Requirement already satisfied: nvidia-cuda-nvrtc-cu12==12.6.77 in /home/hom1e/.local/lib/python3.10/site-packages (from torch->easyocr) (12.6.77)\n",
      "Requirement already satisfied: nvidia-nvtx-cu12==12.6.77 in /home/hom1e/.local/lib/python3.10/site-packages (from torch->easyocr) (12.6.77)\n",
      "Requirement already satisfied: nvidia-nccl-cu12==2.26.2 in /home/hom1e/.local/lib/python3.10/site-packages (from torch->easyocr) (2.26.2)\n",
      "Requirement already satisfied: nvidia-cudnn-cu12==9.5.1.17 in /home/hom1e/.local/lib/python3.10/site-packages (from torch->easyocr) (9.5.1.17)\n",
      "Requirement already satisfied: jinja2 in /home/hom1e/.local/lib/python3.10/site-packages (from torch->easyocr) (3.1.6)\n",
      "Requirement already satisfied: nvidia-curand-cu12==10.3.7.77 in /home/hom1e/.local/lib/python3.10/site-packages (from torch->easyocr) (10.3.7.77)\n",
      "Requirement already satisfied: fsspec in /home/hom1e/.local/lib/python3.10/site-packages (from torch->easyocr) (2025.5.1)\n",
      "Requirement already satisfied: nvidia-cusparselt-cu12==0.6.3 in /home/hom1e/.local/lib/python3.10/site-packages (from torch->easyocr) (0.6.3)\n",
      "Requirement already satisfied: nvidia-cufft-cu12==11.3.0.4 in /home/hom1e/.local/lib/python3.10/site-packages (from torch->easyocr) (11.3.0.4)\n",
      "Requirement already satisfied: nvidia-cusolver-cu12==11.7.1.2 in /home/hom1e/.local/lib/python3.10/site-packages (from torch->easyocr) (11.7.1.2)\n",
      "Requirement already satisfied: nvidia-cufile-cu12==1.11.1.6 in /home/hom1e/.local/lib/python3.10/site-packages (from torch->easyocr) (1.11.1.6)\n",
      "Requirement already satisfied: nvidia-cublas-cu12==12.6.4.1 in /home/hom1e/.local/lib/python3.10/site-packages (from torch->easyocr) (12.6.4.1)\n",
      "Requirement already satisfied: typing-extensions>=4.10.0 in /home/hom1e/.local/lib/python3.10/site-packages (from torch->easyocr) (4.14.0)\n",
      "Requirement already satisfied: nvidia-cuda-cupti-cu12==12.6.80 in /home/hom1e/.local/lib/python3.10/site-packages (from torch->easyocr) (12.6.80)\n",
      "Requirement already satisfied: nvidia-nvjitlink-cu12==12.6.85 in /home/hom1e/.local/lib/python3.10/site-packages (from torch->easyocr) (12.6.85)\n",
      "Requirement already satisfied: networkx in /home/hom1e/.local/lib/python3.10/site-packages (from torch->easyocr) (3.4.2)\n",
      "Requirement already satisfied: triton==3.3.1 in /home/hom1e/.local/lib/python3.10/site-packages (from torch->easyocr) (3.3.1)\n",
      "Requirement already satisfied: nvidia-cuda-runtime-cu12==12.6.77 in /home/hom1e/.local/lib/python3.10/site-packages (from torch->easyocr) (12.6.77)\n",
      "Requirement already satisfied: nvidia-cusparse-cu12==12.5.4.2 in /home/hom1e/.local/lib/python3.10/site-packages (from torch->easyocr) (12.5.4.2)\n",
      "Requirement already satisfied: filelock in /home/hom1e/.local/lib/python3.10/site-packages (from torch->easyocr) (3.18.0)\n",
      "Requirement already satisfied: setuptools>=40.8.0 in /usr/lib/python3/dist-packages (from triton==3.3.1->torch->easyocr) (59.6.0)\n",
      "Requirement already satisfied: tifffile>=2022.8.12 in /home/hom1e/.local/lib/python3.10/site-packages (from scikit-image->easyocr) (2025.5.10)\n",
      "Requirement already satisfied: imageio!=2.35.0,>=2.33 in /home/hom1e/.local/lib/python3.10/site-packages (from scikit-image->easyocr) (2.37.0)\n",
      "Requirement already satisfied: packaging>=21 in /home/hom1e/.local/lib/python3.10/site-packages (from scikit-image->easyocr) (24.2)\n",
      "Requirement already satisfied: lazy-loader>=0.4 in /home/hom1e/.local/lib/python3.10/site-packages (from scikit-image->easyocr) (0.4)\n",
      "Requirement already satisfied: mpmath<1.4,>=1.1.0 in /home/hom1e/.local/lib/python3.10/site-packages (from sympy>=1.13.3->torch->easyocr) (1.3.0)\n",
      "Requirement already satisfied: MarkupSafe>=2.0 in /usr/lib/python3/dist-packages (from jinja2->torch->easyocr) (2.0.1)\n",
      "Installing collected packages: opencv-python\n",
      "Successfully installed opencv-python-4.11.0.86\n",
      "Note: you may need to restart the kernel to use updated packages.\n"
     ]
    }
   ],
   "source": [
    "pip install --upgrade pillow easyocr opencv-python"
   ]
  },
  {
   "cell_type": "code",
   "execution_count": 141,
   "id": "915ddc79-19cc-4646-8bf2-48d654669658",
   "metadata": {},
   "outputs": [],
   "source": [
    "import torch\n",
    "import torch.nn.functional as F\n",
    "import torch.nn as nn\n",
    "from torch.utils.data import DataLoader"
   ]
  },
  {
   "cell_type": "code",
   "execution_count": 142,
   "id": "3c8329da",
   "metadata": {},
   "outputs": [],
   "source": [
    "from torchvision import datasets, transforms"
   ]
  },
  {
   "cell_type": "code",
   "execution_count": 143,
   "id": "844a25b5-5a53-41e2-ab5b-8f7fb3d71394",
   "metadata": {},
   "outputs": [],
   "source": [
    "class CNN(nn.Module):\n",
    "    def __init__(self):\n",
    "        super(CNN, self).__init__()\n",
    "        self.conv1 = nn.Conv2d(in_channels=1, out_channels=32, kernel_size=3, padding=1)\n",
    "        self.conv2 = nn.Conv2d(32, 64, kernel_size=3, padding=1)\n",
    "        self.pool = nn.MaxPool2d(2, 2)\n",
    "        self.fc1 = nn.Linear(64 * 14 * 14, 128)\n",
    "        self.fc2 = nn.Linear(128, 10)\n",
    "        \n",
    "    def forward(self, x):\n",
    "        x = F.relu(self.conv1(x))\n",
    "        x = F.relu(self.conv2(x))\n",
    "        x = self.pool(x)\n",
    "        x = x.view(-1, 64 * 14 * 14)\n",
    "        x = F.relu(self.fc1(x))\n",
    "        return self.fc2(x)"
   ]
  },
  {
   "cell_type": "code",
   "execution_count": 144,
   "id": "d629310e",
   "metadata": {},
   "outputs": [],
   "source": [
    "model = CNN()"
   ]
  },
  {
   "cell_type": "code",
   "execution_count": 145,
   "id": "8744a8ea",
   "metadata": {},
   "outputs": [],
   "source": [
    "optimizer = torch.optim.Adam(model.parameters(), lr=0.001)"
   ]
  },
  {
   "cell_type": "code",
   "execution_count": 146,
   "id": "91cb158e",
   "metadata": {},
   "outputs": [],
   "source": [
    "critetion = nn.CrossEntropyLoss()"
   ]
  },
  {
   "cell_type": "code",
   "execution_count": 147,
   "id": "27b97757",
   "metadata": {},
   "outputs": [],
   "source": [
    "transform = transforms.Compose([transforms.ToTensor(), transforms.Normalize((0.1307,), (0.3081))])"
   ]
  },
  {
   "cell_type": "code",
   "execution_count": 148,
   "id": "b9eb60e9",
   "metadata": {},
   "outputs": [],
   "source": [
    "train_dataset = datasets.MNIST(root=\"./data\", train=True, download=True, transform=transform)\n",
    "test_dataset = datasets.MNIST(root=\"./data\", train=False, download=True, transform=transform)"
   ]
  },
  {
   "cell_type": "code",
   "execution_count": 149,
   "id": "49266562-124d-43e8-b699-790d1b227fbf",
   "metadata": {},
   "outputs": [],
   "source": [
    "train_dataloader = DataLoader(train_dataset, batch_size=64, shuffle=True)\n",
    "test_dataloader = DataLoader(test_dataset, batch_size=1000, shuffle=False)"
   ]
  },
  {
   "cell_type": "code",
   "execution_count": 96,
   "id": "9de39c66",
   "metadata": {},
   "outputs": [],
   "source": [
    "def train(model, loader, optimizer, criterion, epoch):\n",
    "    model.train()\n",
    "    for batch_idx, (data, target) in enumerate(loader):\n",
    "        optimizer.zero_grad()\n",
    "        output = model(data)\n",
    "        loss = critetion(output, target)\n",
    "        loss.backward()\n",
    "        optimizer.step()\n",
    "\n",
    "        if batch_idx % 100 == 0:\n",
    "            print(f\"Epoch: {epoch} Loss: {loss.item():4f}\")"
   ]
  },
  {
   "cell_type": "code",
   "execution_count": 97,
   "id": "15bdd855-9506-46cb-b6bd-b8989cae1c7f",
   "metadata": {},
   "outputs": [],
   "source": [
    "for (data, target) in train_dataloader:\n",
    "    saver = data\n",
    "    # print(target)"
   ]
  },
  {
   "cell_type": "code",
   "execution_count": 98,
   "id": "cf0a68c8-882b-45f9-9fe9-e51242760786",
   "metadata": {},
   "outputs": [
    {
     "name": "stdout",
     "output_type": "stream",
     "text": [
      "Epoch: 1 Loss: 2.315619\n",
      "Epoch: 1 Loss: 0.168737\n",
      "Epoch: 1 Loss: 0.157229\n",
      "Epoch: 1 Loss: 0.080411\n",
      "Epoch: 1 Loss: 0.067300\n",
      "Epoch: 1 Loss: 0.128336\n",
      "Epoch: 1 Loss: 0.037658\n",
      "Epoch: 1 Loss: 0.007037\n",
      "Epoch: 1 Loss: 0.035617\n",
      "Epoch: 1 Loss: 0.004089\n",
      "Epoch: 2 Loss: 0.029106\n",
      "Epoch: 2 Loss: 0.012663\n",
      "Epoch: 2 Loss: 0.012116\n",
      "Epoch: 2 Loss: 0.060042\n",
      "Epoch: 2 Loss: 0.011586\n",
      "Epoch: 2 Loss: 0.022487\n",
      "Epoch: 2 Loss: 0.045938\n",
      "Epoch: 2 Loss: 0.005498\n",
      "Epoch: 2 Loss: 0.028041\n",
      "Epoch: 2 Loss: 0.008367\n",
      "Epoch: 3 Loss: 0.172452\n",
      "Epoch: 3 Loss: 0.079258\n",
      "Epoch: 3 Loss: 0.018292\n",
      "Epoch: 3 Loss: 0.058859\n",
      "Epoch: 3 Loss: 0.005270\n",
      "Epoch: 3 Loss: 0.007552\n",
      "Epoch: 3 Loss: 0.013014\n",
      "Epoch: 3 Loss: 0.023795\n",
      "Epoch: 3 Loss: 0.017179\n",
      "Epoch: 3 Loss: 0.011634\n",
      "Epoch: 4 Loss: 0.066930\n",
      "Epoch: 4 Loss: 0.007370\n",
      "Epoch: 4 Loss: 0.005337\n",
      "Epoch: 4 Loss: 0.000167\n",
      "Epoch: 4 Loss: 0.016688\n",
      "Epoch: 4 Loss: 0.014924\n",
      "Epoch: 4 Loss: 0.048925\n",
      "Epoch: 4 Loss: 0.000192\n",
      "Epoch: 4 Loss: 0.022013\n",
      "Epoch: 4 Loss: 0.003579\n",
      "Epoch: 5 Loss: 0.006174\n",
      "Epoch: 5 Loss: 0.056808\n",
      "Epoch: 5 Loss: 0.017290\n",
      "Epoch: 5 Loss: 0.001193\n",
      "Epoch: 5 Loss: 0.002091\n",
      "Epoch: 5 Loss: 0.038750\n",
      "Epoch: 5 Loss: 0.000480\n",
      "Epoch: 5 Loss: 0.031188\n",
      "Epoch: 5 Loss: 0.000212\n",
      "Epoch: 5 Loss: 0.011802\n"
     ]
    }
   ],
   "source": [
    "for epoch in range(1, 6):\n",
    "    train(model, train_dataloader, optimizer, criterion, epoch)"
   ]
  },
  {
   "cell_type": "code",
   "execution_count": 100,
   "id": "549a57fe-eae1-4a17-bf4f-394c0420d515",
   "metadata": {},
   "outputs": [],
   "source": [
    "def test(model, loader):\n",
    "    model.eval()\n",
    "    correct = 0\n",
    "    total = 0\n",
    "    with torch.no_grad():\n",
    "        for data, target in loader:\n",
    "            output = model(data)\n",
    "            pred = output.argmax(dim=1)\n",
    "            correct += (pred == target).sum().item()\n",
    "            total += target.size(0)\n",
    "\n",
    "    acc = 100. * correct / total\n",
    "    print(f\"Test accuracy: {acc:.2f}%\")"
   ]
  },
  {
   "cell_type": "code",
   "execution_count": 101,
   "id": "4a35547d-9e3a-437b-8690-4474632e19af",
   "metadata": {},
   "outputs": [
    {
     "name": "stdout",
     "output_type": "stream",
     "text": [
      "Test accuracy: 98.94%\n"
     ]
    }
   ],
   "source": [
    "test(model, test_dataloader)"
   ]
  },
  {
   "cell_type": "code",
   "execution_count": 2,
   "id": "604706f0-57a9-4c6a-a3dd-08625f5ffe48",
   "metadata": {},
   "outputs": [],
   "source": [
    "import easyocr\n",
    "import cv2\n",
    "import matplotlib as plt"
   ]
  },
  {
   "cell_type": "code",
   "execution_count": 3,
   "id": "ea862f20",
   "metadata": {},
   "outputs": [
    {
     "name": "stderr",
     "output_type": "stream",
     "text": [
      "Neither CUDA nor MPS are available - defaulting to CPU. Note: This module is much faster with a GPU.\n"
     ]
    }
   ],
   "source": [
    "reader = easyocr.Reader(['ru'])"
   ]
  },
  {
   "cell_type": "code",
   "execution_count": 4,
   "id": "f3f93c4a-3d91-4271-a822-ce34e8756b97",
   "metadata": {},
   "outputs": [
    {
     "name": "stdout",
     "output_type": "stream",
     "text": [
      "oke\n"
     ]
    }
   ],
   "source": [
    "import os\n",
    "\n",
    "image_path = \"/home/hom1e/codes/olproga/ML/day_2/test/404731715_03.png\"\n",
    "if not os.path.isfile(image_path):\n",
    "    print(f\"Файл не найден: {image_path}\")\n",
    "else:\n",
    "    print(\"oke\")"
   ]
  },
  {
   "cell_type": "code",
   "execution_count": null,
   "id": "d507f918",
   "metadata": {},
   "outputs": [
    {
     "name": "stdout",
     "output_type": "stream",
     "text": [
      "Текст: [5) {) 186~ @тл (Точность: 0.10)\n",
      "Текст: % о?_ (Точность: 0.34)\n",
      "Текст: ч8 (Точность: 0.35)\n",
      "Текст: -22 (Точность: 0.22)\n",
      "Текст: 0л.2 (Точность: 0.17)\n",
      "Текст: [%&@ -4 (Точность: 0.10)\n",
      "Текст: [чя &их (Точность: 0.23)\n",
      "Текст: 9/ 'ж{~' (Точность: 0.10)\n",
      "Текст: &0_   {жыэ и? (Точность: 0.24)\n",
      "Текст: #мжо_ (Точность: 0.22)\n",
      "Текст: ( (Точность: 0.96)\n",
      "Текст: ~~& (Точность: 0.70)\n",
      "Текст: &  % &  (Точность: 0.15)\n",
      "Текст: 'ыэ Зои& (Точность: 0.21)\n",
      "Текст: 49) м~& ц; (Точность: 0.09)\n",
      "Текст: 4 (Точность: 0.19)\n",
      "Текст: [л (Точность: 0.91)\n",
      "Текст: [ (9 && (Точность: 0.13)\n",
      "Текст: @, (<_ (Точность: 0.33)\n",
      "Текст: ' И (Точность: 0.13)\n",
      "Текст: (УС2 (Точность: 0.10)\n",
      "Текст: 9ич (Точность: 0.09)\n",
      "Текст: С (Точность: 0.51)\n",
      "Текст: (@1 (Точность: 0.22)\n",
      "Текст: И1 (Точность: 0.34)\n",
      "Текст: 0л2 (Точность: 0.36)\n",
      "Текст: @Ы&_.& & (Точность: 0.17)\n",
      "Текст: +( (Точность: 0.31)\n",
      "Текст: 8 ~& (Точность: 0.11)\n",
      "Текст: [. (Точность: 0.44)\n",
      "Текст: 9И (Точность: 0.50)\n",
      "Текст: иХ и Ф (Точность: 0.15)\n",
      "Текст: */ (Точность: 0.92)\n",
      "Текст: 'И@ 10 (Точность: 0.33)\n",
      "Текст: (мю (Точность: 0.49)\n",
      "Текст: (@ ( (Точность: 0.63)\n",
      "Текст: @ .{л  (Точность: 0.11)\n",
      "Текст: оц (Точность: 0.29)\n",
      "Текст: (ове ем (Точность: 0.07)\n",
      "Текст: [& '  ~ы (Точность: 0.06)\n",
      "Текст: [С~-и2 /Ч_иЗы-& (Точность: 0.04)\n",
      "Текст: { (Точность: 0.53)\n",
      "Текст: \"  (Точность: 0.28)\n",
      "Текст: Жя (Точность: 0.12)\n",
      "Текст: '7 (Точность: 0.88)\n",
      "Текст: &8у2 {чч % (Точность: 0.21)\n",
      "Текст: Чс~ч (Точность: 0.30)\n",
      "Текст: ~2 !~20 (Точность: 0.03)\n",
      "Текст: С4 Ж&о-и&> (Точность: 0.27)\n",
      "Текст: иф{ (Точность: 0.33)\n",
      "Текст: 96 ) 4ь (Точность: 0.31)\n",
      "Текст: [чжяс (Точность: 0.47)\n",
      "Текст: 'Аячи2 , (Точность: 0.18)\n",
      "Текст: Фиэ (Точность: 0.31)\n",
      "Текст: Си (Точность: 0.98)\n",
      "Текст: #А~  (Точность: 0.45)\n",
      "Текст: ( (Точность: 0.59)\n",
      "Текст: @Д^ /ы< (Точность: 0.07)\n",
      "Текст: {И(% &И^ (Точность: 0.06)\n",
      "Текст: (к (Точность: 0.59)\n",
      "Текст: [  (Точность: 0.35)\n",
      "Текст: '^х\" {~э ;2 (Точность: 0.12)\n",
      "Текст: И (Точность: 0.60)\n",
      "Текст: ч (Точность: 0.37)\n",
      "Текст: {ьчы (Точность: 0.25)\n",
      "Текст: 'л2 (Точность: 0.13)\n",
      "Текст: @~ж~*<м (Точность: 0.30)\n",
      "Текст: [ 2н> (Точность: 0.07)\n",
      "Текст: ф   %   (Точность: 0.08)\n",
      "Текст: $ (Точность: 0.78)\n",
      "Текст: ф (Точность: 0.29)\n",
      "Текст: %2 (Точность: 0.76)\n",
      "Текст: 4~хчычк _ (Точность: 0.32)\n",
      "Текст: ,уо_я (Точность: 0.07)\n",
      "Текст: Д {% (Точность: 0.11)\n",
      "Текст: [~ 0оФ )Ц> (Точность: 0.05)\n",
      "Текст: '(~ & &  (Точность: 0.72)\n",
      "Текст: м (Точность: 0.93)\n",
      "Текст: \"(мо' (Точность: 0.13)\n",
      "Текст: Аолы (Точность: 0.21)\n",
      "Текст:  18 (Точность: 0.27)\n",
      "Текст: 1[мчул (Точность: 0.10)\n",
      "Текст: 0 (Точность: 0.76)\n",
      "Текст: 3х (Точность: 0.12)\n",
      "Текст: мс о (Точность: 0.60)\n",
      "Текст: <ир (Точность: 0.35)\n",
      "Текст: 0) (Точность: 1.00)\n",
      "Текст: СЗу% (Точность: 0.29)\n",
      "Текст: (_'@-[~в 9 (Точность: 0.12)\n",
      "Текст: Ж{& (Точность: 0.22)\n",
      "Текст: ф& (Точность: 0.55)\n",
      "Текст: Ъм/ (Точность: 0.08)\n",
      "Текст: Къл (Точность: 0.27)\n",
      "Текст: #(ои8+2 (Точность: 0.21)\n",
      "Текст: 9м~@ о   (Точность: 0.03)\n",
      "Текст: ~90 1 (Точность: 0.17)\n",
      "Текст: Ф(с+2ощ_ (Точность: 0.19)\n",
      "Текст: ( (Точность: 0.92)\n",
      "Текст: 0( (Точность: 0.20)\n",
      "Текст: ' 4х, ^ (Точность: 0.31)\n",
      "Текст: ~'@&ищ4 (Точность: 0.15)\n",
      "Текст: 4 Ж 0 (Точность: 0.28)\n",
      "Текст: >@Я (Точность: 0.12)\n",
      "Текст: 'Ъ ч\"и (Точность: 0.19)\n",
      "Текст: %Я хож@ (Точность: 0.21)\n",
      "Текст: (ыэ4^ (Точность: 0.03)\n",
      "Текст: 0 (Точность: 0.16)\n",
      "Текст: } я61~ (Точность: 0.21)\n",
      "Текст: 0, (Точность: 0.46)\n",
      "Текст: (Ч{\" (Точность: 0.10)\n",
      "Текст: 18 (Точность: 0.56)\n",
      "Текст: 445 (Точность: 0.77)\n",
      "Текст: { 92 (Точность: 0.14)\n",
      "Текст: {(  & (Точность: 0.60)\n",
      "Текст: < (Точность: 0.69)\n",
      "Текст: *2хь~8 (Точность: 0.31)\n",
      "Текст: ЪеЧъым< (Точность: 0.15)\n",
      "Текст: Ж8 {м жж:: (Точность: 0.09)\n"
     ]
    },
    {
     "ename": "AttributeError",
     "evalue": "module 'matplotlib' has no attribute 'imshow'",
     "output_type": "error",
     "traceback": [
      "\u001b[0;31m---------------------------------------------------------------------------\u001b[0m",
      "\u001b[0;31mAttributeError\u001b[0m                            Traceback (most recent call last)",
      "Cell \u001b[0;32mIn[8], line 25\u001b[0m\n\u001b[1;32m     19\u001b[0m     cv2\u001b[38;5;241m.\u001b[39mrectangle(output, top_left, bottom_right, (\u001b[38;5;241m0\u001b[39m, \u001b[38;5;241m255\u001b[39m, \u001b[38;5;241m0\u001b[39m), \u001b[38;5;241m2\u001b[39m)\n\u001b[1;32m     21\u001b[0m     cv2\u001b[38;5;241m.\u001b[39mputText(output, \u001b[38;5;124mf\u001b[39m\u001b[38;5;124m\"\u001b[39m\u001b[38;5;132;01m{\u001b[39;00mtext\u001b[38;5;132;01m}\u001b[39;00m\u001b[38;5;124m (\u001b[39m\u001b[38;5;132;01m{\u001b[39;00mprob\u001b[38;5;132;01m:\u001b[39;00m\u001b[38;5;124m.2f\u001b[39m\u001b[38;5;132;01m}\u001b[39;00m\u001b[38;5;124m)\u001b[39m\u001b[38;5;124m\"\u001b[39m, \n\u001b[1;32m     22\u001b[0m                 (top_left[\u001b[38;5;241m0\u001b[39m], top_left[\u001b[38;5;241m1\u001b[39m] \u001b[38;5;241m-\u001b[39m \u001b[38;5;241m10\u001b[39m),\n\u001b[1;32m     23\u001b[0m                 cv2\u001b[38;5;241m.\u001b[39mFONT_HERSHEY_SIMPLEX, \u001b[38;5;241m0.5\u001b[39m, (\u001b[38;5;241m255\u001b[39m, \u001b[38;5;241m0\u001b[39m, \u001b[38;5;241m0\u001b[39m), \u001b[38;5;241m1\u001b[39m)\n\u001b[0;32m---> 25\u001b[0m \u001b[43mplt\u001b[49m\u001b[38;5;241;43m.\u001b[39;49m\u001b[43mimshow\u001b[49m(output)\n\u001b[1;32m     26\u001b[0m plt\u001b[38;5;241m.\u001b[39maxis(\u001b[38;5;124m'\u001b[39m\u001b[38;5;124moff\u001b[39m\u001b[38;5;124m'\u001b[39m)\n\u001b[1;32m     27\u001b[0m plt\u001b[38;5;241m.\u001b[39mshow()\n",
      "File \u001b[0;32m~/.local/lib/python3.10/site-packages/matplotlib/_api/__init__.py:217\u001b[0m, in \u001b[0;36mcaching_module_getattr.<locals>.__getattr__\u001b[0;34m(name)\u001b[0m\n\u001b[1;32m    215\u001b[0m \u001b[38;5;28;01mif\u001b[39;00m name \u001b[38;5;129;01min\u001b[39;00m props:\n\u001b[1;32m    216\u001b[0m     \u001b[38;5;28;01mreturn\u001b[39;00m props[name]\u001b[38;5;241m.\u001b[39m\u001b[38;5;21m__get__\u001b[39m(instance)\n\u001b[0;32m--> 217\u001b[0m \u001b[38;5;28;01mraise\u001b[39;00m \u001b[38;5;167;01mAttributeError\u001b[39;00m(\n\u001b[1;32m    218\u001b[0m     \u001b[38;5;124mf\u001b[39m\u001b[38;5;124m\"\u001b[39m\u001b[38;5;124mmodule \u001b[39m\u001b[38;5;132;01m{\u001b[39;00m\u001b[38;5;28mcls\u001b[39m\u001b[38;5;241m.\u001b[39m\u001b[38;5;18m__module__\u001b[39m\u001b[38;5;132;01m!r}\u001b[39;00m\u001b[38;5;124m has no attribute \u001b[39m\u001b[38;5;132;01m{\u001b[39;00mname\u001b[38;5;132;01m!r}\u001b[39;00m\u001b[38;5;124m\"\u001b[39m)\n",
      "\u001b[0;31mAttributeError\u001b[0m: module 'matplotlib' has no attribute 'imshow'"
     ]
    }
   ],
   "source": [
    "image_path = \"./test/404731715_03.png\"\n",
    "\n",
    "image = cv2.imread(image_path)\n",
    "# if image is None:\n",
    "#     raise ValueError(\"Не удалось загрузить изображение через OpenCV\")\n",
    "# image = cv2.cvtColor(image, cv2.COLOR_BGR2RGB)\n",
    "\n",
    "# image = cv2.imread(image_path)\n",
    "results = reader.readtext(image)\n",
    "\n",
    "# plt.figure(figsize=(15, 10))\n",
    "    \n",
    "output = image.copy()\n",
    "for (bbox, text, prob) in results:\n",
    "    print(f\"Текст: {text} (Точность: {prob:.2f})\")\n",
    "    top_left = tuple(map(int, bbox[0]))\n",
    "    bottom_right = tuple(map(int, bbox[2]))\n",
    "    \n",
    "    cv2.rectangle(output, top_left, bottom_right, (0, 255, 0), 2)\n",
    "    \n",
    "    cv2.putText(output, f\"{text} ({prob:.2f})\", \n",
    "                (top_left[0], top_left[1] - 10),\n",
    "                cv2.FONT_HERSHEY_SIMPLEX, 0.5, (255, 0, 0), 1)\n",
    "    \n",
    "plt.imshow(output)\n",
    "plt.axis('off')\n",
    "plt.show()"
   ]
  },
  {
   "cell_type": "code",
   "execution_count": null,
   "id": "a18f7c47-b384-45ac-a965-dcba3ee0a53a",
   "metadata": {},
   "outputs": [],
   "source": []
  },
  {
   "cell_type": "code",
   "execution_count": null,
   "id": "cb2eb002-9ec6-4778-9d29-d49c5507bceb",
   "metadata": {},
   "outputs": [],
   "source": []
  }
 ],
 "metadata": {
  "kernelspec": {
   "display_name": "Python 3",
   "language": "python",
   "name": "python3"
  },
  "language_info": {
   "codemirror_mode": {
    "name": "ipython",
    "version": 3
   },
   "file_extension": ".py",
   "mimetype": "text/x-python",
   "name": "python",
   "nbconvert_exporter": "python",
   "pygments_lexer": "ipython3",
   "version": "3.10.12"
  }
 },
 "nbformat": 4,
 "nbformat_minor": 5
}
